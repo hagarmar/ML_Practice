{
 "cells": [
  {
   "cell_type": "code",
   "execution_count": 72,
   "metadata": {
    "collapsed": false
   },
   "outputs": [],
   "source": [
    "from pandas import read_csv\n",
    "import pandas as pd\n",
    "import matplotlib.pyplot as plt\n",
    "import numpy as np\n",
    "from sklearn import neighbors \n",
    "from sklearn.metrics import roc_curve, auc\n",
    "from sklearn.ensemble import RandomForestClassifier \n",
    "from sklearn.decomposition import PCA\n",
    "from sklearn import svm \n",
    "from sklearn import cross_validation\n",
    "from sklearn.linear_model import LogisticRegression\n",
    "\n",
    "%matplotlib inline"
   ]
  },
  {
   "cell_type": "code",
   "execution_count": 14,
   "metadata": {
    "collapsed": false
   },
   "outputs": [],
   "source": [
    "df_titanic = read_csv(\"train.csv\")\n",
    "df_titanic.set_index(\"PassengerId\", inplace=True) # set PassengerId as index of table, can reset_index to revert"
   ]
  },
  {
   "cell_type": "code",
   "execution_count": 3,
   "metadata": {
    "collapsed": true
   },
   "outputs": [],
   "source": [
    "df_test = read_csv(\"test.csv\")\n",
    "df_test.set_index(\"PassengerId\", inplace=True)"
   ]
  },
  {
   "cell_type": "code",
   "execution_count": 10,
   "metadata": {
    "collapsed": false
   },
   "outputs": [
    {
     "data": {
      "text/plain": [
       "{nan, 'C', 'Q', 'S'}"
      ]
     },
     "execution_count": 10,
     "metadata": {},
     "output_type": "execute_result"
    }
   ],
   "source": [
    "set(df_titanic[\"Embarked\"])\n"
   ]
  },
  {
   "cell_type": "code",
   "execution_count": 15,
   "metadata": {
    "collapsed": false
   },
   "outputs": [
    {
     "name": "stdout",
     "output_type": "stream",
     "text": [
      "         Survived      Pclass         Age       SibSp       Parch        Fare  \\\n",
      "count  891.000000  891.000000  714.000000  891.000000  891.000000  891.000000   \n",
      "mean     0.383838    2.308642   29.699118    0.523008    0.381594   32.204208   \n",
      "std      0.486592    0.836071   14.526497    1.102743    0.806057   49.693429   \n",
      "min      0.000000    1.000000    0.420000    0.000000    0.000000    0.000000   \n",
      "25%      0.000000    2.000000   20.125000    0.000000    0.000000    7.910400   \n",
      "50%      0.000000    3.000000   28.000000    0.000000    0.000000   14.454200   \n",
      "75%      1.000000    3.000000   38.000000    1.000000    0.000000   31.000000   \n",
      "max      1.000000    3.000000   80.000000    8.000000    6.000000  512.329200   \n",
      "\n",
      "           Gender  \n",
      "count  891.000000  \n",
      "mean     0.647587  \n",
      "std      0.477990  \n",
      "min      0.000000  \n",
      "25%      0.000000  \n",
      "50%      1.000000  \n",
      "75%      1.000000  \n",
      "max      1.000000  \n",
      "set([1, 2, 3])\n"
     ]
    }
   ],
   "source": [
    "# data cleaning\n",
    "\n",
    "df_titanic['Gender'] = df_titanic['Sex'].map( {'female': 0, 'male': 1} ).astype(int) # map to binary\n",
    "\n",
    "print df_titanic.describe() # gives descriptive statistics of all columns\n",
    "\n",
    "\n",
    "print set(df_titanic[\"Pclass\"])"
   ]
  },
  {
   "cell_type": "code",
   "execution_count": 16,
   "metadata": {
    "collapsed": false
   },
   "outputs": [
    {
     "data": {
      "text/plain": [
       "{-1, 0, 1, 2}"
      ]
     },
     "execution_count": 16,
     "metadata": {},
     "output_type": "execute_result"
    }
   ],
   "source": [
    "df_titanic['FixedEmbarked'] = df_titanic['Embarked']\n",
    "#df_titanic['FixedEmbarked'].fillna(-1)\n",
    "df_titanic.loc[df_titanic['Embarked'].isnull(),'FixedEmbarked']=-1\n",
    "df_titanic.loc[df_titanic['Embarked']=='S', 'FixedEmbarked']=0\n",
    "df_titanic.loc[df_titanic['Embarked']=='C', 'FixedEmbarked']=1\n",
    "df_titanic.loc[df_titanic['Embarked']=='Q', 'FixedEmbarked']=2\n",
    "\n",
    "#df_titanic['FixedEmbarked'] = df_titanic['FixedEmbarked'].map( {'S': 0, 'C': 1, 'Q':2} ).astype(float) # map to binary\n",
    "\n",
    "set(df_titanic['FixedEmbarked'])\n"
   ]
  },
  {
   "cell_type": "code",
   "execution_count": 17,
   "metadata": {
    "collapsed": false
   },
   "outputs": [
    {
     "name": "stdout",
     "output_type": "stream",
     "text": [
      "set([1, 2, 3])\n",
      "set([1, 2, 3])\n"
     ]
    }
   ],
   "source": [
    "\n",
    "gender_class_age_mean = np.zeros((2,3))\n",
    "gender_class_age_median = np.zeros((2,3))\n",
    "\n",
    "print set(df_titanic[\"Pclass\"])\n",
    "\n",
    "# get mean and median of each class&gender group\n",
    "for gender in set(df_titanic[\"Gender\"]):\n",
    "    for pclass in set(df_titanic[\"Pclass\"]):\n",
    "\n",
    "        gender_class_age_median[gender,pclass-1] = \\\n",
    "        df_titanic[(df_titanic[\"Gender\"]==gender) & (df_titanic[\"Pclass\"]==pclass)][\"Age\"].dropna().median()\n",
    "        \n",
    "        gender_class_age_mean[gender,pclass-1] = \\\n",
    "        df_titanic[(df_titanic[\"Gender\"]==gender) & (df_titanic[\"Pclass\"]==pclass)][\"Age\"].dropna().mean()\n",
    "\n",
    "print set(df_titanic[\"Pclass\"])\n"
   ]
  },
  {
   "cell_type": "code",
   "execution_count": 21,
   "metadata": {
    "collapsed": false
   },
   "outputs": [
    {
     "name": "stdout",
     "output_type": "stream",
     "text": [
      "set([1, 2, 3])\n",
      "0 0\n",
      "0 1\n",
      "0 2\n",
      "1 0\n",
      "1 1\n",
      "1 2\n",
      "float64\n",
      "True\n"
     ]
    }
   ],
   "source": [
    "df_titanic['FixedAge_Mean'] = df_titanic['Age']\n",
    "df_titanic['FixedAge_Median'] = df_titanic['Age']\n",
    "\n",
    "print set(df_titanic[\"Pclass\"])\n",
    "\n",
    "for gender in set(df_titanic[\"Gender\"]):\n",
    "    for pclass in set(df_titanic[\"Pclass\"]):\n",
    "        print gender, pclass-1\n",
    "        df_titanic.loc[(df_titanic['FixedAge_Mean'].isnull()==True) & \\\n",
    "                   (df_titanic[\"Pclass\"]==pclass) & (df_titanic[\"Gender\"]==gender),'FixedAge_Mean'] = gender_class_age_mean[gender, pclass-1]\n",
    "        df_titanic.loc[(df_titanic['FixedAge_Median'].isnull()==True) & \\\n",
    "                   (df_titanic[\"Pclass\"]==pclass) & (df_titanic[\"Gender\"]==gender),'FixedAge_Median'] = gender_class_age_median[gender, pclass-1]\n",
    "\n",
    "print df_titanic[\"FixedAge_Median\"].dtypes\n",
    "print df_titanic[\"FixedAge_Median\"].count() == df_titanic[\"FixedAge_Median\"].dropna().count()"
   ]
  },
  {
   "cell_type": "code",
   "execution_count": 22,
   "metadata": {
    "collapsed": false
   },
   "outputs": [
    {
     "name": "stdout",
     "output_type": "stream",
     "text": [
      "         Survived      Pclass         Age       SibSp       Parch        Fare  \\\n",
      "count  891.000000  891.000000  714.000000  891.000000  891.000000  891.000000   \n",
      "mean     0.383838    2.308642   29.699118    0.523008    0.381594   32.204208   \n",
      "std      0.486592    0.836071   14.526497    1.102743    0.806057   49.693429   \n",
      "min      0.000000    1.000000    0.420000    0.000000    0.000000    0.000000   \n",
      "25%      0.000000    2.000000   20.125000    0.000000    0.000000    7.910400   \n",
      "50%      0.000000    3.000000   28.000000    0.000000    0.000000   14.454200   \n",
      "75%      1.000000    3.000000   38.000000    1.000000    0.000000   31.000000   \n",
      "max      1.000000    3.000000   80.000000    8.000000    6.000000  512.329200   \n",
      "\n",
      "           Gender  FixedAge_Mean  FixedAge_Median  \n",
      "count  891.000000     891.000000       891.000000  \n",
      "mean     0.647587      29.318643        29.112424  \n",
      "std      0.477990      13.281103        13.304424  \n",
      "min      0.000000       0.420000         0.420000  \n",
      "25%      0.000000      21.750000        21.500000  \n",
      "50%      1.000000      26.507589        26.000000  \n",
      "75%      1.000000      36.000000        36.000000  \n",
      "max      1.000000      80.000000        80.000000  \n"
     ]
    }
   ],
   "source": [
    "print df_titanic.describe()"
   ]
  },
  {
   "cell_type": "code",
   "execution_count": 23,
   "metadata": {
    "collapsed": false
   },
   "outputs": [
    {
     "data": {
      "text/plain": [
       "Survived                                 0\n",
       "Pclass                                   3\n",
       "Name               Braund, Mr. Owen Harris\n",
       "Sex                                   male\n",
       "Age                                     22\n",
       "SibSp                                    1\n",
       "Parch                                    0\n",
       "Ticket                           A/5 21171\n",
       "Fare                                  7.25\n",
       "Cabin                                  NaN\n",
       "Embarked                                 S\n",
       "Gender                                   1\n",
       "FixedEmbarked                            0\n",
       "FixedAge_Mean                           22\n",
       "FixedAge_Median                         22\n",
       "Name: 1, dtype: object"
      ]
     },
     "execution_count": 23,
     "metadata": {},
     "output_type": "execute_result"
    }
   ],
   "source": [
    "df_titanic.ix[1] # call row number and not index (since we changed index)"
   ]
  },
  {
   "cell_type": "code",
   "execution_count": 24,
   "metadata": {
    "collapsed": false
   },
   "outputs": [
    {
     "name": "stdout",
     "output_type": "stream",
     "text": [
      "        Survived    Pclass        Age     SibSp     Parch       Fare  \\\n",
      "Gender                                                                 \n",
      "0       0.742038  2.159236  27.915709  0.694268  0.649682  44.479818   \n",
      "1       0.188908  2.389948  30.726645  0.429809  0.235702  25.523893   \n",
      "\n",
      "        FixedAge_Mean  FixedAge_Median  \n",
      "Gender                                  \n",
      "0           27.288063        27.261146  \n",
      "1           30.423672        30.119879  \n",
      "        Survived    Gender\n",
      "Pclass                    \n",
      "1       0.629630  0.564815\n",
      "2       0.472826  0.586957\n",
      "3       0.242363  0.706721\n",
      "               Survived        Age\n",
      "Gender Pclass                     \n",
      "0      1       0.968085  34.611765\n",
      "       2       0.921053  28.722973\n",
      "       3       0.500000  21.750000\n",
      "1      1       0.368852  41.281386\n",
      "       2       0.157407  30.740707\n",
      "       3       0.135447  26.507589\n"
     ]
    }
   ],
   "source": [
    "# \"pivot tables\" for python, groupby\n",
    "df_titanic.sort([\"Gender\", \"Pclass\", \"FixedAge_Median\", \"Survived\"], ascending=True, inplace=True)\n",
    "by_sex = df_titanic.groupby(\"Gender\") # group by sex\n",
    "print by_sex.mean()\n",
    "\n",
    "by_class = df_titanic.groupby(\"Pclass\")\n",
    "print by_class[\"Survived\", \"Gender\"].mean()\n",
    "\n",
    "by_all = df_titanic.groupby([\"Gender\", \"Pclass\"])\n",
    "print by_all[\"Survived\",\"Age\"].mean() # this shows us the mean age and survival rate for groupby Sex, Pclass"
   ]
  },
  {
   "cell_type": "code",
   "execution_count": 67,
   "metadata": {
    "collapsed": false
   },
   "outputs": [
    {
     "name": "stdout",
     "output_type": "stream",
     "text": [
      "0.718553459119\n",
      "0.669811320755\n",
      "0.705974842767\n",
      "0.699685534591\n",
      "0.781446540881\n",
      "0.781446540881\n",
      "0.781446540881\n",
      "0.781446540881\n",
      "0.781446540881\n",
      "0.781446540881\n",
      "0.781446540881\n",
      "0.781446540881\n",
      "0.781446540881\n",
      "0.781446540881\n",
      "0.787735849057\n",
      "0.787735849057\n",
      "0.787735849057\n",
      "0.781446540881\n",
      "0.781446540881\n",
      "0.781446540881\n",
      "0.781446540881\n",
      "0.781446540881\n",
      "0.781446540881\n",
      "0.745283018868\n",
      "0.745283018868\n"
     ]
    },
    {
     "data": {
      "image/png": "[encoded data removed]",
      "text/plain": [
       "<matplotlib.figure.Figure at 0x10899b810>"
      ]
     },
     "metadata": {},
     "output_type": "display_data"
    }
   ],
   "source": [
    "# knn at different n's\n",
    "\n",
    "results = []\n",
    "columns = [\"Pclass\",  \"Gender\"]\n",
    "\n",
    "# randomly select rows for test/train\n",
    "test_idx = np.random.uniform(0, 1, len(df_titanic)) <= 0.3\n",
    "train = df_titanic[test_idx==True]\n",
    "test = df_titanic[test_idx==False]\n",
    "\n",
    "for n in range(1,51,2):\n",
    "    knn = neighbors.KNeighborsClassifier(n_neighbors = n)\n",
    "    print knn.fit(train[columns], train[\"Survived\"]).score(test[columns], test[\"Survived\"])\n",
    "    predicted = knn.predict(test[columns].dropna())\n",
    "    accuracy = np.where(predicted==test['Survived'], 1, 0).sum() / float(len(test))\n",
    "    #print \"Neighbors: %d, Accuracy: %3f\" % (n, accuracy)\n",
    "    results.append([n, accuracy])\n",
    "    if n==20:\n",
    "        predicted_knn, test_knn = predicted, test['Survived']\n",
    " \n",
    "results = pd.DataFrame(results, columns=[\"n\", \"accuracy\"])\n",
    " \n",
    "plt.plot(results.n, results.accuracy)\n",
    "plt.title(\"Accuracy with Increasing K\")\n",
    "plt.show()\n",
    "\n"
   ]
  },
  {
   "cell_type": "code",
   "execution_count": 70,
   "metadata": {
    "collapsed": false
   },
   "outputs": [
    {
     "name": "stdout",
     "output_type": "stream",
     "text": [
      "0.78431372549\n"
     ]
    },
    {
     "data": {
      "text/html": [
       "<div style=\"max-height:1000px;max-width:1500px;overflow:auto;\">\n",
       "<table border=\"1\" class=\"dataframe\">\n",
       "  <thead>\n",
       "    <tr style=\"text-align: right;\">\n",
       "      <th>preds</th>\n",
       "      <th>0</th>\n",
       "      <th>1</th>\n",
       "    </tr>\n",
       "    <tr>\n",
       "      <th>actual</th>\n",
       "      <th></th>\n",
       "      <th></th>\n",
       "    </tr>\n",
       "  </thead>\n",
       "  <tbody>\n",
       "    <tr>\n",
       "      <th>0</th>\n",
       "      <td>215</td>\n",
       "      <td>3</td>\n",
       "    </tr>\n",
       "    <tr>\n",
       "      <th>1</th>\n",
       "      <td>74</td>\n",
       "      <td>65</td>\n",
       "    </tr>\n",
       "  </tbody>\n",
       "</table>\n",
       "</div>"
      ],
      "text/plain": [
       "preds     0   1\n",
       "actual         \n",
       "0       215   3\n",
       "1        74  65"
      ]
     },
     "execution_count": 70,
     "metadata": {},
     "output_type": "execute_result"
    }
   ],
   "source": [
    "# random forest classifier\n",
    "columns = [\"Pclass\",  \"Gender\"]\n",
    "\n",
    "# randomly select rows for test/train\n",
    "X_train, X_test, y_train, y_test = cross_validation.train_test_split(df_titanic[columns], \\\n",
    "                                                                     df_titanic[\"Survived\"], \\\n",
    "                                                                     test_size=0.4, random_state=0)\n",
    "\n",
    "clf = RandomForestClassifier(n_jobs=2)\n",
    "clf.fit(X_train, y_train)\n",
    "print clf.score(X_test, y_test)\n",
    " \n",
    "# show how predictions of survival fare against actual survival    \n",
    "predictions = clf.predict(X_test)\n",
    "pd.crosstab(y_test, predictions, rownames=['actual'], colnames=['preds'])\n"
   ]
  },
  {
   "cell_type": "code",
   "execution_count": 71,
   "metadata": {
    "collapsed": false
   },
   "outputs": [
    {
     "data": {
      "text/plain": [
       "<matplotlib.legend.Legend at 0x108d3e590>"
      ]
     },
     "execution_count": 71,
     "metadata": {},
     "output_type": "execute_result"
    },
    {
     "data": {
      "image/png": "[encoded data removed]",
      "text/plain": [
       "<matplotlib.figure.Figure at 0x108a04610>"
      ]
     },
     "metadata": {},
     "output_type": "display_data"
    }
   ],
   "source": [
    "fpr, tpr, thresholds  = roc_curve(y_test, predictions)\n",
    "roc_auc = auc(fpr, tpr)\n",
    "plt.plot(fpr, tpr, label='ROC curve random forest (area = %0.2f)' % roc_auc)\n",
    "plt.plot([0, 1], [0, 1], 'k--')\n",
    "plt.xlim([0.0, 1.0])\n",
    "plt.ylim([0.0, 1.0])\n",
    "plt.xlabel('False Positive Rate')\n",
    "plt.ylabel('True Positive Rate')\n",
    "plt.title('Receiver operating characteristic example')\n",
    "\n",
    "fpr, tpr, thresholds  = roc_curve(test_knn, predicted_knn)\n",
    "roc_auc = auc(fpr, tpr)\n",
    "plt.plot(fpr, tpr, label='ROC curve KNN (area = %0.2f)' % roc_auc)\n",
    "\n",
    "plt.legend(loc=\"lower right\")\n",
    "\n"
   ]
  },
  {
   "cell_type": "code",
   "execution_count": 43,
   "metadata": {
    "collapsed": false
   },
   "outputs": [
    {
     "name": "stdout",
     "output_type": "stream",
     "text": [
      "[  2.88134900e+03   3.16482116e+02   8.07017306e-01   4.43008847e-01\n",
      "   3.64025242e-01   3.43059831e-01   1.84662389e-01   1.02729797e-01]\n"
     ]
    },
    {
     "data": {
      "text/plain": [
       "(240, 7)"
      ]
     },
     "execution_count": 43,
     "metadata": {},
     "output_type": "execute_result"
    }
   ],
   "source": [
    "# pca practice\n",
    "results = []\n",
    "columns = [\"Pclass\",  \"Gender\", \"FixedAge_Median\", \"FixedAge_Mean\", \"Fare\", \"SibSp\", \"FixedEmbarked\", \"Parch\"]\n",
    "\n",
    "# randomly select rows for test/train\n",
    "test_idx = np.random.uniform(0, 1, len(df_titanic)) <= 0.3\n",
    "train = df_titanic[test_idx==True]\n",
    "test = df_titanic[test_idx==False]\n",
    "\n",
    "# which components are useful?\n",
    "# seems almost all - maybe except Parch\n",
    "pca = PCA()\n",
    "pca_ft = pca.fit(train[columns])\n",
    "\n",
    "print(pca.explained_variance_) \n",
    "\n",
    "pca.n_components = 7\n",
    "X_reduced = pca.fit_transform(train[columns])\n",
    "X_reduced.shape"
   ]
  },
  {
   "cell_type": "code",
   "execution_count": 58,
   "metadata": {
    "collapsed": false
   },
   "outputs": [
    {
     "name": "stdout",
     "output_type": "stream",
     "text": [
      "0.823529411765\n"
     ]
    },
    {
     "data": {
      "text/html": [
       "<div style=\"max-height:1000px;max-width:1500px;overflow:auto;\">\n",
       "<table border=\"1\" class=\"dataframe\">\n",
       "  <thead>\n",
       "    <tr style=\"text-align: right;\">\n",
       "      <th>preds</th>\n",
       "      <th>0</th>\n",
       "      <th>1</th>\n",
       "    </tr>\n",
       "    <tr>\n",
       "      <th>actual</th>\n",
       "      <th></th>\n",
       "      <th></th>\n",
       "    </tr>\n",
       "  </thead>\n",
       "  <tbody>\n",
       "    <tr>\n",
       "      <th>0</th>\n",
       "      <td>317</td>\n",
       "      <td>55</td>\n",
       "    </tr>\n",
       "    <tr>\n",
       "      <th>1</th>\n",
       "      <td>75</td>\n",
       "      <td>163</td>\n",
       "    </tr>\n",
       "  </tbody>\n",
       "</table>\n",
       "</div>"
      ],
      "text/plain": [
       "preds     0    1\n",
       "actual          \n",
       "0       317   55\n",
       "1        75  163"
      ]
     },
     "execution_count": 58,
     "metadata": {},
     "output_type": "execute_result"
    }
   ],
   "source": [
    "# SVM analysis\n",
    "\n",
    "results = []\n",
    "columns = [\"Pclass\",  \"Gender\"]\n",
    "\n",
    "X_train, X_test, y_train, y_test = cross_validation.train_test_split(df_titanic[columns], \\\n",
    "                                                                     df_titanic[\"Survived\"], \\\n",
    "                                                                     test_size=0.4, random_state=0)\n",
    "\n",
    "clf = svm.SVC(kernel='linear', C=1).fit(X_train, y_train)\n",
    "print clf.score(X_test, y_test)\n",
    "predictions = clf.predict(X_test)\n",
    "\n",
    "pd.crosstab(test['Survived'], predictions, rownames=['actual'], colnames=['preds'])\n"
   ]
  },
  {
   "cell_type": "code",
   "execution_count": null,
   "metadata": {
    "collapsed": true
   },
   "outputs": [],
   "source": []
  },
  {
   "cell_type": "code",
   "execution_count": null,
   "metadata": {
    "collapsed": true
   },
   "outputs": [],
   "source": []
  }
 ],
 "metadata": {
  "kernelspec": {
   "display_name": "Python 2",
   "language": "python",
   "name": "python2"
  },
  "language_info": {
   "codemirror_mode": {
    "name": "ipython",
    "version": 2
   },
   "file_extension": ".py",
   "mimetype": "text/x-python",
   "name": "python",
   "nbconvert_exporter": "python",
   "pygments_lexer": "ipython2",
   "version": "2.7.6"
  }
 },
 "nbformat": 4,
 "nbformat_minor": 0
}
